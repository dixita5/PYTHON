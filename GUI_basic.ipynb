{
 "cells": [
  {
   "cell_type": "markdown",
   "metadata": {},
   "source": [
    "# Graphical User Interface (GUI)\n",
    "A GUI (graphical user interface) is a system of interactive visual components for computer software. A GUI displays objects that convey information, and represent actions that can be taken by the user. The objects change color, size, or visibility when the user interacts with them. \n",
    "Python offers multiple options for developing GUI (Graphical User Interface). Out of all the GUI methods, tkinter is the most commonly used method. It is a standard Python interface to the Tk GUI toolkit shipped with Python. \n",
    "Python with tkinter is the fastest and easiest way to create the GUI applications.\n",
    "\n",
    "## Following modules can be used-\n",
    "1. tkinter\n",
    "2. kivy\n",
    "3. pyQT\n",
    "4. wxpython"
   ]
  },
  {
   "cell_type": "code",
   "execution_count": 1,
   "metadata": {},
   "outputs": [],
   "source": [
    "######### CREATION OF WINDOW ##########\n",
    "\n",
    "from tkinter import *\n",
    "win=Tk()\n",
    "win.mainloop()"
   ]
  },
  {
   "cell_type": "code",
   "execution_count": 3,
   "metadata": {},
   "outputs": [],
   "source": [
    "######### ADDING TITLE ###########\n",
    "\n",
    "from tkinter import *\n",
    "win=Tk()\n",
    "win.title(\"MY FIRST GUI\")\n",
    "win.mainloop()"
   ]
  },
  {
   "cell_type": "code",
   "execution_count": 4,
   "metadata": {},
   "outputs": [],
   "source": [
    "######### CHANGING THE BACKGROUND COLOUR ############\n",
    "\n",
    "from tkinter import *\n",
    "win=Tk()\n",
    "win.configure(background=\"black\")\n",
    "win.title(\"MY FIRST GUI\")\n",
    "win.mainloop()"
   ]
  },
  {
   "cell_type": "code",
   "execution_count": 18,
   "metadata": {},
   "outputs": [],
   "source": [
    "########## CHANGING THE DIMENSIONS OF THE WINDOW ###########\n",
    "\n",
    "from tkinter import *\n",
    "win=Tk()\n",
    "win.configure(background=\"black\")\n",
    "win.geometry(\"400x600\")\n",
    "win.title(\"MY FIRST GUI\")\n",
    "win.mainloop()"
   ]
  },
  {
   "cell_type": "code",
   "execution_count": null,
   "metadata": {},
   "outputs": [],
   "source": []
  }
 ],
 "metadata": {
  "kernelspec": {
   "display_name": "Python 3",
   "language": "python",
   "name": "python3"
  },
  "language_info": {
   "codemirror_mode": {
    "name": "ipython",
    "version": 3
   },
   "file_extension": ".py",
   "mimetype": "text/x-python",
   "name": "python",
   "nbconvert_exporter": "python",
   "pygments_lexer": "ipython3",
   "version": "3.7.1"
  }
 },
 "nbformat": 4,
 "nbformat_minor": 2
}
